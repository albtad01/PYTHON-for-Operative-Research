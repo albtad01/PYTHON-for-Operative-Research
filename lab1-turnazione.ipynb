{
 "cells": [
  {
   "cell_type": "markdown",
   "id": "4df92df2",
   "metadata": {},
   "source": [
    "## Esercizio: turnazione infermieri\n",
    "\n",
    "Abbiamo passato delle ore su questo problema, quindi sappiamo già quale modello vogliamo implementare:\n",
    "\n",
    "$$\n",
    "\\begin{array}{lrrrrrrrrrrrr}\n",
    "\\min          & x_L & + x_M & + x_{Me} & + x_G & + x_V & + x_S & + x_D\\\\\n",
    "\\textrm{s.t.} & x_L &       &          & + x_G & + x_V & + x_S & + x_D & \\ge 17 & (\\textrm{Lunedì})\\\\\n",
    "              & x_L & + x_M &          &       & + x_V & + x_S & + x_D & \\ge 13 & (\\textrm{Martedì})\\\\\n",
    "              & x_L & + x_M & + x_{Me} &       &       & + x_S & + x_D & \\ge 12 & (\\textrm{Mercoledì})\\\\\n",
    "              & x_L & + x_M & + x_{Me} & + x_G &       &       & + x_D & \\ge  9 & (\\textrm{Giovedì})\\\\\n",
    "              & x_L & + x_M & + x_{Me} & + x_G & + x_V &       &       & \\ge 10 & (\\textrm{Venerdì})\\\\\n",
    "              &     &   x_M & + x_{Me} & + x_G & + x_V & + x_S &       & \\ge 15 & (\\textrm{Sabato})\\\\\n",
    "              &     &       &   x_{Me} & + x_G & + x_V & + x_S & + x_D & \\ge 11 & (\\textrm{Domenica})\\\\\n",
    "              & x_L, & x_M, &  x_{Me}, & x_G, & x_V, & x_S, & x_D & \\in \\mathbb Z_+\\\\\n",
    "\\end{array}\n",
    "$$"
   ]
  },
  {
   "cell_type": "code",
   "execution_count": 36,
   "id": "180143e6",
   "metadata": {},
   "outputs": [
    {
     "name": "stdout",
     "output_type": "stream",
     "text": [
      "Requirement already satisfied: mip in /Users/alberto/opt/anaconda3/lib/python3.9/site-packages (1.14.1)\n",
      "Requirement already satisfied: cffi==1.15.0 in /Users/alberto/opt/anaconda3/lib/python3.9/site-packages (from mip) (1.15.0)\n",
      "Requirement already satisfied: pycparser in /Users/alberto/opt/anaconda3/lib/python3.9/site-packages (from cffi==1.15.0->mip) (2.20)\n",
      "Cgl0004I processed model has 0 rows, 0 columns (0 integer (0 of which binary)) and 0 elements\n",
      "Cgl0015I Clique Strengthening extended 0 cliques, 0 were dominated\n",
      "Cbc3007W No integer variables\n",
      "Total time (CPU seconds):       0.00   (Wallclock seconds):       0.00\n",
      "\n",
      "Starting solution of the Linear programming relaxation problem using Primal Simplex\n",
      "\n",
      "Coin0506I Presolve 0 (-7) rows, 0 (-7) columns and 0 (-35) elements\n",
      "Clp0000I Optimal - objective value 0\n",
      "Coin0511I After Postsolve, objective 0, infeasibilities - dual 0 (0), primal 0 (0)\n",
      "Clp0032I Optimal objective 0 - 0 iterations time 0.002, Presolve 0.00, Idiot 0.00\n",
      "\n",
      "Starting MIP optimization\n",
      "17.0 4.0 11.0 0.0 0.0 0.0 0.0\n"
     ]
    }
   ],
   "source": [
    "!pip install mip\n",
    "import mip\n",
    "m = mip.Model()\n",
    "XL=m.add_var(var_type=mip.INTEGER)\n",
    "XM=m.add_var(var_type=mip.INTEGER)\n",
    "xMe=m.add_var(var_type=mip.INTEGER)\n",
    "XG=m.add_var(var_type=mip.INTEGER)\n",
    "xV=m.add_var(var_type=mip.INTEGER)\n",
    "xS=m.add_var(var_type=mip.INTEGER)\n",
    "XD=m.add_var(var_type=mip.INTEGER)\n",
    "m.objextive = mip.minimize(xL+xM+xMe+xG+xV+xS+xD)\n",
    "m.add_constr(xL+xG+xV+xS+xD >= 17)\n",
    "m.add_constr(xL+xM+xV+xS+xD >= 13)\n",
    "m.add_constr(xL+xM+xMe+xS+xD >= 12)\n",
    "m.add_constr(xL+xM+xMe+xG+xD >= 9)\n",
    "m.add_constr(xL+xM+xMe+xG+xV >= 10)\n",
    "m.add_constr(xM+xMe+xG+xV+xS >= 15)\n",
    "m.add_constr(xMe+xG+xV+xS+xD >= 11)\n",
    "m.optimize ()\n",
    "print(xL.x, xM.x, xMe.x, xG.x, xV.x, xS.x, xD.x)"
   ]
  },
  {
   "cell_type": "code",
   "execution_count": 20,
   "id": "a6862742",
   "metadata": {},
   "outputs": [
    {
     "name": "stdout",
     "output_type": "stream",
     "text": [
      "Cgl0003I 0 fixed, 7 tightened bounds, 0 strengthened rows, 0 substitutions\n",
      "Cgl0004I processed model has 7 rows, 7 columns (7 integer (0 of which binary)) and 35 elements\n",
      "Coin3009W Conflict graph built in 0.000 seconds, density: 0.000%\n",
      "Cgl0015I Clique Strengthening extended 0 cliques, 0 were dominated\n",
      "Cbc0012I Integer solution of 18 found by greedy cover after 0 iterations and 0 nodes (0.00 seconds)\n",
      "Cbc0001I Search completed - best objective 18, took 0 iterations and 0 nodes (0.00 seconds)\n",
      "Cbc0035I Maximum depth 0, 0 variables fixed on reduced cost\n",
      "Total time (CPU seconds):       0.00   (Wallclock seconds):       0.00\n",
      "\n",
      "Starting solution of the Linear programming relaxation problem using Primal Simplex\n",
      "\n",
      "Clp0024I Matrix will be packed to eliminate 14 small elements\n",
      "Coin0506I Presolve 7 (0) rows, 7 (0) columns and 35 (0) elements\n",
      "Clp1000I sum of infeasibilities 4.66152e-08 - average 6.65931e-09, 0 fixed columns\n",
      "Coin0506I Presolve 7 (0) rows, 7 (0) columns and 35 (0) elements\n",
      "Clp0006I 0  Obj 18.000046 Dual inf 699.99999 (7)\n",
      "Clp0029I End of values pass after 7 iterations\n",
      "Clp0000I Optimal - objective value 18\n",
      "Clp0000I Optimal - objective value 18\n",
      "Clp0000I Optimal - objective value 18\n",
      "Clp0032I Optimal objective 18 - 0 iterations time 0.002, Idiot 0.00\n",
      "\n",
      "Starting MIP optimization\n",
      "[3.0, 1.0, 0.0, 5.0, 1.0, 8.0, 0.0]\n",
      "ciao\n",
      "hi\n",
      "ciao\n",
      "hi\n",
      "ciao\n",
      "hi\n",
      "ciao\n",
      "hi\n",
      "ciao\n",
      "hi\n"
     ]
    }
   ],
   "source": [
    "m=mip.Model()\n",
    "A=[[1,0,0,1,1,1,1],\n",
    "   [1,1,0,0,1,1,1],\n",
    "   [1,1,1,0,0,1,1],\n",
    "   [1,1,1,1,0,0,1],\n",
    "   [1,1,1,1,1,0,0],\n",
    "   [0,1,1,1,1,1,0],\n",
    "   [0,0,1,1,1,1,1]]\n",
    "b=[17,13,12,9,10,15,11]\n",
    "x=[m.add_var(var_type=mip.INTEGER) for i in range(7)]\n",
    "m.objective=mip.minimize(mip.xsum(x[i] for i in range(7)))\n",
    "for j in range(7):\n",
    "    m.add_constr(mip.xsum(A[j][i]*x[i] for i in range(7))>=b[j])\n",
    "\n",
    "m.optimize()\n",
    "print([v.x for v in x])\n",
    "\n",
    "for i in range(5): # fa tutto ciò che è indentato di seguito\n",
    "    print('ciao')\n",
    "    print('hi')"
   ]
  }
 ],
 "metadata": {
  "kernelspec": {
   "display_name": "Python 3 (ipykernel)",
   "language": "python",
   "name": "python3"
  },
  "language_info": {
   "codemirror_mode": {
    "name": "ipython",
    "version": 3
   },
   "file_extension": ".py",
   "mimetype": "text/x-python",
   "name": "python",
   "nbconvert_exporter": "python",
   "pygments_lexer": "ipython3",
   "version": "3.9.7"
  }
 },
 "nbformat": 4,
 "nbformat_minor": 5
}
