{
 "cells": [
  {
   "cell_type": "markdown",
   "id": "6ebf3dcc",
   "metadata": {},
   "source": [
    "# Introduction to the _mip_ Python module\n",
    "\n",
    "The module we'll become most familiar with in this course is the `mip` module, which allows for creating, manipulating, and solving optimization models with linear constraints and integer, binary, or continuous variables. Check the [homepage](https://www.python-mip.com) for full access to the documentation and updates.\n",
    "\n",
    "Suppose you want to model the following problem:\n",
    "$$\n",
    "\\begin{array}{ll}\n",
    "  \\max & x_1 + x_2\\\\\n",
    "  \\textrm{s.t.} & 2 x_1 + x_2 \\le 10\\\\\n",
    "  & x_1, x_2 \\ge 0\n",
    "\\end{array}\n",
    "$$\n",
    "\n",
    "For starters, we import the module `mip` in python."
   ]
  },
  {
   "cell_type": "code",
   "execution_count": 1,
   "id": "452df095",
   "metadata": {},
   "outputs": [
    {
     "name": "stdout",
     "output_type": "stream",
     "text": [
      "Collecting mip\n",
      "  Downloading mip-1.14.1-py3-none-any.whl (15.3 MB)\n",
      "\u001b[2K     \u001b[90m━━━━━━━━━━━━━━━━━━━━━━━━━━━━━━━━━━━━━━━\u001b[0m \u001b[32m15.3/15.3 MB\u001b[0m \u001b[31m126.7 kB/s\u001b[0m eta \u001b[36m0:00:00\u001b[0m00:01\u001b[0m00:04\u001b[0m\n",
      "\u001b[?25hCollecting cffi==1.15.0\n",
      "  Downloading cffi-1.15.0-cp39-cp39-macosx_10_9_x86_64.whl (178 kB)\n",
      "\u001b[2K     \u001b[90m━━━━━━━━━━━━━━━━━━━━━━━━━━━━━━━━━━━━━\u001b[0m \u001b[32m179.0/179.0 kB\u001b[0m \u001b[31m100.8 kB/s\u001b[0m eta \u001b[36m0:00:00\u001b[0ma \u001b[36m0:00:01\u001b[0m\n",
      "\u001b[?25hRequirement already satisfied: pycparser in /Users/alberto/opt/anaconda3/lib/python3.9/site-packages (from cffi==1.15.0->mip) (2.20)\n",
      "Installing collected packages: cffi, mip\n",
      "  Attempting uninstall: cffi\n",
      "    Found existing installation: cffi 1.14.6\n",
      "    Uninstalling cffi-1.14.6:\n",
      "      Successfully uninstalled cffi-1.14.6\n",
      "Successfully installed cffi-1.15.0 mip-1.14.1\n"
     ]
    }
   ],
   "source": [
    "# When using Colab, make sure you run this instruction beforehand\n",
    "# Python tools for the modeling and solution of Mixed-Integer Linear programs = MIP\n",
    "!pip install mip"
   ]
  },
  {
   "cell_type": "code",
   "execution_count": 3,
   "id": "53f4c8da",
   "metadata": {},
   "outputs": [],
   "source": [
    "# Import module\n",
    "# un file python dobbiamo dirlo esplicitamente che lo importiamo\n",
    "import mip"
   ]
  },
  {
   "cell_type": "markdown",
   "id": "86a9bd4d",
   "metadata": {},
   "source": [
    "Next, we create an optimization model `m`. We do so by calling the `mip.Model` *constructor* method. We also create two variables `x1` and `x2` using the `add_var()` method from the optimization model."
   ]
  },
  {
   "cell_type": "code",
   "execution_count": 17,
   "id": "4bbf3d62",
   "metadata": {},
   "outputs": [],
   "source": [
    "# Create model and add two variables to it\n",
    "# Creazione modello di ottimizzazione mip.Model() -> aggiungo variabili\n",
    "\n",
    "m = mip.Model();\n",
    "x1 = m.add_var();\n",
    "x2 = m.add_var();"
   ]
  },
  {
   "cell_type": "markdown",
   "id": "f44bec0a",
   "metadata": {},
   "source": [
    "We now add the single constraint and the objective. \n",
    "\n",
    "To add the constraint, we use the method `add_constr` from the optimization model.\n",
    "To add the objective function, we set the `objective` attribute of `m`. We use the method `mip.maximize`, to indicate that this is a function to be maximized.\n",
    "\n",
    "For now, since both the constraint and the objective are very simple, we fully write them as algebraic expressions of `x1` and `x2`."
   ]
  },
  {
   "cell_type": "code",
   "execution_count": 18,
   "id": "3cbd2ab0",
   "metadata": {},
   "outputs": [],
   "source": [
    "# Add constraint, set objective function\n",
    "m.add_constr(2*x1+x2<=10)\n",
    "m.objective= mip.maximize(x1+x2) # funzione obiettivo"
   ]
  },
  {
   "cell_type": "markdown",
   "id": "695a8c81",
   "metadata": {},
   "source": [
    "Finally, we call the method `optimize` to solve the problem and print the value of the optimal solution. For a variable `v` of the module `mip`, its value in the optimal solution is retrieved as the attribute `.x`, for example `v.x`."
   ]
  },
  {
   "cell_type": "code",
   "execution_count": 22,
   "id": "9e96094e",
   "metadata": {},
   "outputs": [
    {
     "name": "stdout",
     "output_type": "stream",
     "text": [
      "0.0 10.0\n"
     ]
    }
   ],
   "source": [
    "# optimize and print solution\n",
    "m.optimize() # la soluzione viene 0 -> Ottimizza il modello (con funz. ob. e vincoli)\n",
    "print(x1.x,x2.x) # per il valore dobbiamo mettere .x"
   ]
  },
  {
   "cell_type": "markdown",
   "id": "15a48a9a",
   "metadata": {},
   "source": [
    "# A slightly more advanced example\n",
    "\n",
    "Let us now consider a slightly more complicated example: formulating and solving a knapsack problem.\n",
    "\n",
    "$$\n",
    "\\begin{array}{lll}\n",
    "\\max & 3 x_1 + 4 x_2 + 7 x_3 + 5 x_4\\\\\n",
    "\\textrm{s.t.} & 4 x_1 + 5 x_2 + 6 x_3 + 4 x_4 \\le 13\\\\\n",
    "              & x_1, x_2, x_3, x_4 \\in \\{0,1\\}\n",
    "\\end{array}\n",
    "$$\n",
    "\n",
    "For starters, we import the module and define the data used in this model."
   ]
  },
  {
   "cell_type": "code",
   "execution_count": 23,
   "id": "dd721cb3",
   "metadata": {},
   "outputs": [],
   "source": [
    "# First: import the Python-MIP module\n",
    "import mip "
   ]
  },
  {
   "cell_type": "markdown",
   "id": "84b3b82a",
   "metadata": {},
   "source": [
    "Next, we create an optimization model with the `mip.Model` *constructor* method. \n",
    "\n",
    "We also add four variables using a list, and call that list `x`. Note that we are using a so-called _list comprehension_ to create variables, i.e., we put a `for` construct _inside_ the list in order to create as many list elements as there are numbers in `range(4)`. As you may have gathered from previous cells, `range(4)` is the set of numbers `0, 1, 2, 3`."
   ]
  },
  {
   "cell_type": "code",
   "execution_count": 28,
   "id": "b160fef0",
   "metadata": {},
   "outputs": [
    {
     "name": "stdout",
     "output_type": "stream",
     "text": [
      "[<mip.entities.Var object at 0x7fd6c91e2970>, <mip.entities.Var object at 0x7fd6c91e29d0>, <mip.entities.Var object at 0x7fd6c91e2af0>, <mip.entities.Var object at 0x7fd6c91e2670>]\n"
     ]
    }
   ],
   "source": [
    "# Create model and variables\n",
    "\n",
    "valore = [3, 4, 7, 5]\n",
    "peso = [4, 5, 6, 4]\n",
    "capacita = 13\n",
    "\n",
    "m=mip.Model();\n",
    "\n",
    "# x1=m.add_var(var_type=mip.BINARY)\n",
    "# x2=m.add_var(var_type=mip.BINARY)\n",
    "# x3=m.add_var(var_type=mip.BINARY)\n",
    "# x4=m.add_var(var_type=mip.BINARY)\n",
    "\n",
    "#x= (m.add_var(var_type=mip.BINARY),\n",
    "#   m.add_var(var_type=mip.BINARY),\n",
    "#   m.add_var(var_type=mip.BINARY),\n",
    "#   m.add_var(var_type=mip.BINARY))\n",
    "\n",
    "# Creare una lista di variabili con add_var e dico di farlo per tutti i numeri da 0 a 3\n",
    "x= [m.add_var(var_type=mip.BINARY) for i in range(4)]\n",
    "print(x)"
   ]
  },
  {
   "cell_type": "markdown",
   "id": "1745988d",
   "metadata": {},
   "source": [
    "We now add the single constraint and the objective. In order to create the sum $\\sum_i w_i x_i$, the method `mip.xsum` houls be used. As an argument, one again uses a `for` construct inside the `xsum` argument. The expression\n",
    "\n",
    "```python\n",
    "weight[i] * x[i] for i in range(4)\n",
    "```\n",
    "\n",
    "generates all products $w_ix_i$ for all $i\\in \\{0,1,2,3\\}$ (I know it might be tricky for many to get used to the idea that indices begin at zero in Python, but this will come in handy in the future). This expression is then wrapped inside a `mip.xsum`, which is constrained to be lesser than or equal to `max_weight`. This is the constraint. It is added to the model with the `+=` operator, which is common in Python and other languages such as C/C++ or Java; `a += b` means \"add `b` to `a` and store the result in `a`\".\n",
    "\n",
    "The objective function is a similar `mip.xsum` construction, this time with `value[i]` instead of `weight[i]` for coefficients. It is assigned as the model's objective function with the method `mip.maximize`, to indicate that this is obviously a function to be maximized."
   ]
  },
  {
   "cell_type": "code",
   "execution_count": 34,
   "id": "9e7dbd4a",
   "metadata": {},
   "outputs": [],
   "source": [
    "# Add constraint, set objective\n",
    "# m.add_constr(somma di tutti i ... per i che va da uno a quattro  <= capacità zaino)\n",
    "m.add_constr(mip.xsum(peso[i]*x[i] for i in range(4)) <= 13)\n",
    "# Lista indicizzabile da 0 a N-1\n",
    "m.objective = mip.maximize(mip.xsum(valore[i]*x[i] for i in range(4)))"
   ]
  },
  {
   "cell_type": "markdown",
   "id": "68e232bd",
   "metadata": {},
   "source": [
    "Finally, we call the method `optimize` to solve the problem and print the value of the optimal solution. For a variable `v` of the module `mip`, its value in the optimal solution is retrieved as the attribute `.x`, for example `v.x`."
   ]
  },
  {
   "cell_type": "code",
   "execution_count": 35,
   "id": "75de3989",
   "metadata": {
    "scrolled": true
   },
   "outputs": [
    {
     "name": "stdout",
     "output_type": "stream",
     "text": [
      "Coin0506I Presolve 0 (-1) rows, 0 (-2) columns and 0 (-2) elements\n",
      "Clp0000I Optimal - objective value 10\n",
      "Coin0511I After Postsolve, objective 10, infeasibilities - dual 0 (0), primal 0 (0)\n",
      "Clp0032I Optimal objective 10 - 0 iterations time 0.002, Presolve 0.00, Idiot 0.00\n",
      "Clp0000I Optimal - objective value 10\n",
      "Clp0000I Optimal - objective value 10\n",
      "Starting solution of the Linear programming relaxation problem using Primal Simplex\n",
      "\n",
      "Coin0506I Presolve 1 (-2) rows, 4 (0) columns and 4 (-8) elements\n",
      "Clp1000I sum of infeasibilities 0 - average 0, 4 fixed columns\n",
      "Coin0506I Presolve 0 (-1) rows, 0 (-4) columns and 0 (-4) elements\n",
      "Clp0000I Optimal - objective value -0\n",
      "Clp0000I Optimal - objective value -0\n",
      "Coin0511I After Postsolve, objective 0, infeasibilities - dual 0 (0), primal 0 (0)\n",
      "Clp0006I 0  Obj -0 Dual inf 23.799996 (4)\n",
      "Clp0000I Optimal - objective value 14.4\n",
      "Clp0000I Optimal - objective value 14.4\n",
      "Clp0000I Optimal - objective value 14.4\n",
      "Coin0511I After Postsolve, objective 14.4, infeasibilities - dual 0 (0), primal 0 (0)\n",
      "Clp0032I Optimal objective 14.4 - 0 iterations time 0.002, Presolve 0.00, Idiot 0.00\n",
      "\n",
      "Starting MIP optimization\n",
      "1.0 1.0 0.0 1.0\n"
     ]
    }
   ],
   "source": [
    "# Optimize and print solution\n",
    "m.optimize()\n",
    "print(x[0].x,x[1].x,x[2].x,x[3].x)"
   ]
  },
  {
   "cell_type": "markdown",
   "id": "ba383225",
   "metadata": {},
   "source": [
    "Obviously, we could have just formulated the non-parametric version of the problem. Here it is:"
   ]
  },
  {
   "cell_type": "code",
   "execution_count": null,
   "id": "59ae2e96",
   "metadata": {},
   "outputs": [],
   "source": [
    "# Write problem in non-parametric form."
   ]
  },
  {
   "cell_type": "markdown",
   "id": "b7e303f7",
   "metadata": {},
   "source": [
    "## Miscellanea and troubleshooting\n",
    "\n",
    "After this first MIP model it's time to say something more about Python.\n",
    "\n",
    "### Re-running code on Jupyter notebooks\n",
    "Code on Jupyter notebooks is fed into Python one cell at a time. If the notebook is written correctly, you should be able to click into the first cell, then just do a `shift`+`enter` through the last cell without any error.\n",
    "\n",
    "You are also able to re-run any cell multiple times, in any sequence you want. However, be aware that Python sees a sequence of cells it is given, and does not know whether an instruction should be undone or not. Therefore, once a cell is run, its results are _persistent_, at least until we reset them. One big red button is the __Restart__ command under the _Kernel_ tab in the menu: it clears all memory of whatever was done in the cell so far (though obviously not file operations). Later in this notebook we show an example of the trouble persistence can cause.\n",
    "\n",
    "### Indentation\n",
    "Indentation is crucial: in a `for` loop, an `if` block, or a function definition, the inner part __MUST__ be indented consistently. Python will throw an error in the following cases:\n",
    "\n",
    "```python\n",
    "for i in [1,2,3]:\n",
    "print(i)\n",
    "```\n",
    "Here the `print` instruction should be indented by at least one space.\n",
    "```python\n",
    "if i==4:\n",
    "    print('i is 4')\n",
    "  print('deal with it')\n",
    "```\n",
    "Here indentation is inconsistent.\n",
    "```python\n",
    "def myfunction(a):\n",
    "return a**4 + 5*a**3\n",
    "```\n",
    "Same as the first incorrect example. The correct way to write these examples is as follows:\n",
    "```python\n",
    "for i in [1,2,3]:\n",
    "    print(i)\n",
    "\n",
    "if i==4:\n",
    "    print('i is 4')\n",
    "    print('deal with it')\n",
    "\n",
    "def myfunction(a):\n",
    "    return a**4 + 5*a**3\n",
    "```\n",
    "The suggested indentation is 4 characters.\n",
    "\n",
    "### Assignment vs. equality\n",
    "The sign `=` is for _assignment_, while `==` is for checking equality of two expressions. You can write `if a == 4` but not `if a = 4`. Also, writing the statement `a = 4` is correct, and so is `a == 4`; however, the latter has no effect (apart from returning `True` or `False` on the Python command line).\n",
    "\n",
    "### Semicolons, be gone!\n",
    "You may have noticed that Python doesn't require semicolons (`;`) at the end of each instruction, as other languages like C, C++, Java, AMPL do. This makes for more readable and prettier code, but indentation is enforced with this in mind.\n",
    "\n",
    "### Writing a statement on multiple lines\n",
    "Related to the last point: conditions can be split on multiple lines as long as a `\\` is added at the end of all but the last one, for example:\n",
    "```python\n",
    "if i==3 or \\\n",
    "   i==4:\n",
    "    print('i is not 5')\n",
    "```\n",
    "But the `\\` is not necessary if there is an unclosed parenthesis, for instance:\n",
    "```python\n",
    "if (i==3 or i==5 or\n",
    "    i==7):\n",
    "    print('i is prime')\n",
    "```\n",
    "### If you're feeling a bit masochistic...\n",
    "A good way to check if your Python program was written according to the standard is to run the `flake8` module on it. Just run `flake8 myprogram.py` and check all the errors it throws (there are usually a ton)."
   ]
  },
  {
   "cell_type": "markdown",
   "id": "1f4ca767",
   "metadata": {},
   "source": [
    "## Persistence and debugging in Jupyer notebooks\n",
    "\n",
    "Suppose you want to model the following problem:\n",
    "$$\n",
    "\\begin{array}{ll}\n",
    "  \\max & x_1 + x_2\\\\\n",
    "  \\textrm{s.t.} & 2 x_1 + x_2 \\le 10\\\\\n",
    "  & x_1, x_2 \\ge 0\n",
    "\\end{array}\n",
    "$$\n",
    "Let's write the model using `mip`:"
   ]
  },
  {
   "cell_type": "code",
   "execution_count": null,
   "id": "ced94229",
   "metadata": {},
   "outputs": [],
   "source": [
    "# Copy full model here"
   ]
  },
  {
   "cell_type": "markdown",
   "id": "7d965383",
   "metadata": {},
   "source": [
    "Suppose now we want to relax the constraint, for instance change the right-hand side to 20:"
   ]
  },
  {
   "cell_type": "code",
   "execution_count": null,
   "id": "b349ade0",
   "metadata": {},
   "outputs": [],
   "source": [
    "# Add relaxed constraints (e.g. with <= 20 instead of <= 10)\n",
    "\n",
    "# Re-optimize and print the solution.\n",
    "\n",
    "print('solution:', x1.x, ',', x2.x)"
   ]
  },
  {
   "cell_type": "markdown",
   "id": "1882dd97",
   "metadata": {},
   "source": [
    "The solution is the same even though we relaxed the problem. Why? Well, the problem has two constraints: the one we added in the first cell (which is the more restrictive one) and the last constraint. If we want to relax a problem or change it otherwise, we should modify the cell it is contained in."
   ]
  }
 ],
 "metadata": {
  "kernelspec": {
   "display_name": "Python 3 (ipykernel)",
   "language": "python",
   "name": "python3"
  },
  "language_info": {
   "codemirror_mode": {
    "name": "ipython",
    "version": 3
   },
   "file_extension": ".py",
   "mimetype": "text/x-python",
   "name": "python",
   "nbconvert_exporter": "python",
   "pygments_lexer": "ipython3",
   "version": "3.9.7"
  }
 },
 "nbformat": 4,
 "nbformat_minor": 5
}
