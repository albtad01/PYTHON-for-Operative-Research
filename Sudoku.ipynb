{
 "cells": [
  {
   "cell_type": "markdown",
   "id": "2c9533a6",
   "metadata": {},
   "source": [
    "# Esercizio 1: Sudoku\n",
    "\n",
    "Formulare il problema di risolvere il sudoku descritto nella cella qui sotto, dove i numeri da 1 a 9 indicano le celle già fissate mentre gli zeri indicano celle vuote."
   ]
  },
  {
   "cell_type": "code",
   "execution_count": 4,
   "id": "5ab9befe",
   "metadata": {},
   "outputs": [
    {
     "data": {
      "text/plain": [
       "[[8, 0, 0, 0, 0, 0, 0, 0, 0],\n",
       " [0, 0, 3, 6, 0, 0, 0, 0, 0],\n",
       " [0, 7, 0, 0, 9, 0, 2, 0, 0],\n",
       " [0, 5, 0, 0, 0, 7, 0, 0, 0],\n",
       " [0, 0, 0, 0, 4, 5, 7, 0, 0],\n",
       " [0, 0, 0, 1, 0, 0, 0, 3, 0],\n",
       " [0, 0, 1, 0, 0, 0, 0, 6, 8],\n",
       " [0, 0, 8, 5, 0, 0, 0, 1, 0],\n",
       " [0, 9, 0, 0, 0, 0, 4, 0, 0]]"
      ]
     },
     "execution_count": 4,
     "metadata": {},
     "output_type": "execute_result"
    }
   ],
   "source": [
    "griglia3x3 = \\\n",
    " [[8, 0, 0, 0, 0, 0, 0, 0, 0],\n",
    "  [0, 0, 3, 6, 0, 0, 0, 0, 0],\n",
    "  [0, 7, 0, 0, 9, 0, 2, 0, 0],\n",
    "  [0, 5, 0, 0, 0, 7, 0, 0, 0],\n",
    "  [0, 0, 0, 0, 4, 5, 7, 0, 0],\n",
    "  [0, 0, 0, 1, 0, 0, 0, 3, 0],\n",
    "  [0, 0, 1, 0, 0, 0, 0, 6, 8],\n",
    "  [0, 0, 8, 5, 0, 0, 0, 1, 0],\n",
    "  [0, 9, 0, 0, 0, 0, 4, 0, 0]]\n",
    "\n",
    "griglia3x3"
   ]
  },
  {
   "cell_type": "markdown",
   "id": "dc2bceef",
   "metadata": {},
   "source": [
    "# Soluzione\n",
    "\n",
    "La scelta fondamentale è sulle variabili. Sì, le celle sono numeri interi, ma se usassimo variabili intere dovremmo poi fare salti mortali per garantire che siano diverse in un blocco, una riga o una colonna. Quindi è meglio usare delle variabili __binarie__ per indicare l'assegnamento di un numero a una cella.\n",
    "\n",
    "Altro suggerimento: la funzione obiettivo non è necessaria. Dopo tutto ci serve una soluzione qualsiasi, anzi questo problema non è proprio di _ottimizzazione_ ma di _ammissibilità_."
   ]
  },
  {
   "cell_type": "code",
   "execution_count": 2,
   "id": "011a0709",
   "metadata": {},
   "outputs": [
    {
     "name": "stdout",
     "output_type": "stream",
     "text": [
      "Requirement already satisfied: mip in /Users/alberto/opt/anaconda3/lib/python3.9/site-packages (1.14.1)\n",
      "Requirement already satisfied: cffi==1.15.0 in /Users/alberto/opt/anaconda3/lib/python3.9/site-packages (from mip) (1.15.0)\n",
      "Requirement already satisfied: pycparser in /Users/alberto/opt/anaconda3/lib/python3.9/site-packages (from cffi==1.15.0->mip) (2.20)\n",
      "\n",
      "\u001b[1m[\u001b[0m\u001b[34;49mnotice\u001b[0m\u001b[1;39;49m]\u001b[0m\u001b[39;49m A new release of pip available: \u001b[0m\u001b[31;49m22.2.2\u001b[0m\u001b[39;49m -> \u001b[0m\u001b[32;49m22.3\u001b[0m\n",
      "\u001b[1m[\u001b[0m\u001b[34;49mnotice\u001b[0m\u001b[1;39;49m]\u001b[0m\u001b[39;49m To update, run: \u001b[0m\u001b[32;49mpip install --upgrade pip\u001b[0m\n"
     ]
    }
   ],
   "source": [
    "!pip install mip  # Necessario solo se si usa colab.research.google.com"
   ]
  },
  {
   "cell_type": "code",
   "execution_count": null,
   "id": "aeeb2976",
   "metadata": {},
   "outputs": [],
   "source": [
    "import mip\n",
    "\n",
    "Q= range(q)\n",
    "\n",
    "# Quali sono le dimensioni principali del problema?\n",
    "\n",
    "# Creare il modello\n",
    "\n",
    "m = mip.Model()"
   ]
  },
  {
   "cell_type": "code",
   "execution_count": 5,
   "id": "e8b7c43c",
   "metadata": {},
   "outputs": [
    {
     "ename": "IndentationError",
     "evalue": "expected an indented block (1235348867.py, line 13)",
     "output_type": "error",
     "traceback": [
      "\u001b[0;36m  File \u001b[0;32m\"/var/folders/xn/mzblbjpx6rg47n7w7z1f0cnm0000gn/T/ipykernel_21889/1235348867.py\"\u001b[0;36m, line \u001b[0;32m13\u001b[0m\n\u001b[0;31m    for i in N:\u001b[0m\n\u001b[0m               ^\u001b[0m\n\u001b[0;31mIndentationError\u001b[0m\u001b[0;31m:\u001b[0m expected an indented block\n"
     ]
    }
   ],
   "source": [
    "# Variabili\n",
    "\n",
    "# La parte più importante della formulazione\n",
    "\n",
    "x=[[... for j in N] for i in N]\n",
    "\n",
    "x=[((m.add_var(var_type=mip.BINARY) for k in N) for j in N) for i in N]\n",
    "\n",
    "for i in N:\n",
    "    for j in N:\n",
    "        m.add_constr(mip.xsum(x[i][j][k] for k in N) == 1)\n",
    "\n",
    "for i in N:\n",
    "    for j in N:\n",
    "        if(griglia3x3[i][j]>0):\n",
    "            m.add_constr(x[i][j][griglia3x3[i][j] -1] == 1)\n",
    "            \n"
   ]
  },
  {
   "cell_type": "code",
   "execution_count": null,
   "id": "013d668d",
   "metadata": {},
   "outputs": [],
   "source": [
    "# Vincolo 1: ogni cella deve essere un numero da 1 a 9...\n",
    "for i in N:\n",
    "    for j in N:\n",
    "        m.add_constr(mip.xsum(x[i][j][k] for k in N) == 1)\n"
   ]
  },
  {
   "cell_type": "code",
   "execution_count": null,
   "id": "f97ef503",
   "metadata": {},
   "outputs": [],
   "source": [
    "# Vincolo 2: ... a meno che non sia già stata assegnata (ovvero griglia3x3 ha un numero positivo)\n",
    "for i in N:\n",
    "    for j in N:\n",
    "        if(griglia3x3[i][j]>0):\n",
    "            m.add_constr(x[i][j][griglia3x3[i][j] -1] == 1)"
   ]
  },
  {
   "cell_type": "code",
   "execution_count": null,
   "id": "8163c9f5",
   "metadata": {},
   "outputs": [],
   "source": [
    "# Vincolo 3a: Ogni numero deve apparire ESATTAMENTE una volta su ogni riga\n",
    "for i in N:\n",
    "    for k in N:\n",
    "        m.add_constr(mip.xsum(x[i][j][k] for j in N) == 1)"
   ]
  },
  {
   "cell_type": "code",
   "execution_count": null,
   "id": "5f31ee00",
   "metadata": {},
   "outputs": [],
   "source": [
    "# Vincolo 3b: Ogni numero deve apparire ESATTAMENTE una volta su ogni colonna"
   ]
  },
  {
   "cell_type": "code",
   "execution_count": null,
   "id": "f1f6ed7c",
   "metadata": {},
   "outputs": [],
   "source": [
    "# Vincolo 3c: Ogni numero deve apparire ESATTAMENTE una volta in ogni blocco 3x3\n",
    "for h in Q:\n",
    "    for l in Q:\n",
    "        for k in N:\n",
    "            m.add_constr(mip.xsum(x[i+q*k][i+q*l][k]) ==1)"
   ]
  },
  {
   "cell_type": "code",
   "execution_count": null,
   "id": "fa6ea6d2",
   "metadata": {},
   "outputs": [],
   "source": [
    "# Risolvere e stampare la soluzione\n",
    "m.optimize()\n",
    "for i in N:\n",
    "    for j in N:\n",
    "        print(1+mip.xsum(k*x[i][j][k].x for k in N))"
   ]
  },
  {
   "cell_type": "markdown",
   "id": "703fbd28",
   "metadata": {},
   "source": [
    "## Variante a 16\n",
    "\n",
    "Il modello si può generalizzare al caso di un sudoku con $q^2$ blocchi quadrati, ciascuno avente $q^2$ celle (nel caso classico $q=3$). Risolvere il problema seguente"
   ]
  },
  {
   "cell_type": "code",
   "execution_count": null,
   "id": "b7d47eeb",
   "metadata": {},
   "outputs": [],
   "source": [
    "griglia4x4 = \\\n",
    " [[ 0, 0,12, 0, 0, 2, 0, 0, 0, 7, 3, 0,13,15, 0, 0],\n",
    "  [15, 0, 0, 0, 0, 3, 0, 0, 9, 0, 0, 0,12, 0, 0,10],\n",
    "  [ 0, 0, 0, 0, 9, 0, 6, 0, 0, 0,12, 0, 0, 0, 2, 5],\n",
    "  [ 6,11, 1, 0, 0,10, 5, 0, 0, 2, 0,15, 0, 0, 0, 0],\n",
    "  [ 4, 6, 3, 0, 0, 0,13,14, 0, 0, 0, 0, 0, 7, 0, 0],\n",
    "  [ 0,15,11, 0, 7, 0, 9, 0, 0, 0, 0, 0, 0, 0, 1, 0],\n",
    "  [ 0, 1, 0,10,15, 0, 0, 0,11, 3,14, 0, 6, 0, 0, 0],\n",
    "  [13, 0, 8, 7, 0, 5, 0, 0, 0, 1, 9,12, 0, 0, 0, 0],\n",
    "  [ 0, 0, 0, 6, 3, 7,15, 4, 0, 0, 0, 0, 0,14, 0, 0],\n",
    "  [ 0, 8, 0, 0, 0, 0, 0, 0, 0,11, 7, 0, 4, 0, 0, 0],\n",
    "  [ 0, 0, 0, 0, 0, 0, 0, 0,13, 0, 0, 6, 9, 0, 3, 0],\n",
    "  [ 0, 0, 0, 0, 2, 8,14, 0, 3, 0, 0,10, 0, 0,13, 7],\n",
    "  [ 0, 0, 0, 8, 0, 0, 0, 7,10, 0, 0, 0, 0, 0, 5, 1],\n",
    "  [ 0, 4,10, 1, 6, 0, 0, 0, 0,12, 0,14, 7, 3, 9,15],\n",
    "  [ 3, 0,15, 0, 0, 0, 0, 8, 0, 0, 1, 0,14,12, 0, 0],\n",
    "  [ 2, 0, 0, 9,12, 0, 0, 1, 0, 0, 0, 0, 0, 6, 8, 0]]\n",
    "\n"
   ]
  }
 ],
 "metadata": {
  "celltoolbar": "Raw Cell Format",
  "kernelspec": {
   "display_name": "Python 3 (ipykernel)",
   "language": "python",
   "name": "python3"
  },
  "language_info": {
   "codemirror_mode": {
    "name": "ipython",
    "version": 3
   },
   "file_extension": ".py",
   "mimetype": "text/x-python",
   "name": "python",
   "nbconvert_exporter": "python",
   "pygments_lexer": "ipython3",
   "version": "3.9.7"
  }
 },
 "nbformat": 4,
 "nbformat_minor": 5
}
