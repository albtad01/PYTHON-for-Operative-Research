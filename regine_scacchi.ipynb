{
 "cells": [
  {
   "cell_type": "markdown",
   "id": "78bbb5f2",
   "metadata": {},
   "source": [
    "# Il problema delle $n$ regine\n",
    "\n",
    "Nel gioco degli scacchi, la regina può muoversi in orizzontale, verticale e diagonale e di un numero qualunque di celle. Posizionare il massimo numero regine su una scacchiera $n\\times n$ in modo che nessuna possa essere mangiata in una sola mossa. <br />\n",
    "<b>Mangiare:</b> se la regina si sposta in diagonale, mangia tutti quelli sulla diagonale, in orizz. e in vert."
   ]
  },
  {
   "cell_type": "markdown",
   "id": "d18e2faf",
   "metadata": {},
   "source": [
    "# Soluzione\n",
    "\n",
    "![Immagine (da Wikipedia)](https://upload.wikimedia.org/wikipedia/commons/2/2c/Eight_Queens12_positions.gif)\n",
    "\n",
    "A differenza del Sudoku, questo problema è di ottimizzazione, ovvero dobbiamo trovare il numero massimo di regine. È da notare che ci può essere al più una regina per riga, quindi $n$ è un _upper bound_, ovvero una stima per eccesso, della soluzione ottima.\n",
    "\n",
    "Il problema ha una sola decisione di tipo sì/no in ogni cella, quindi ci servono $n^2$ variabili binarie."
   ]
  },
  {
   "cell_type": "code",
   "execution_count": 1,
   "id": "c54c4ada",
   "metadata": {
    "scrolled": true
   },
   "outputs": [
    {
     "name": "stdout",
     "output_type": "stream",
     "text": [
      "Requirement already satisfied: mip in /Users/alberto/opt/anaconda3/lib/python3.9/site-packages (1.14.1)\n",
      "Requirement already satisfied: cffi==1.15.0 in /Users/alberto/opt/anaconda3/lib/python3.9/site-packages (from mip) (1.15.0)\n",
      "Requirement already satisfied: pycparser in /Users/alberto/opt/anaconda3/lib/python3.9/site-packages (from cffi==1.15.0->mip) (2.20)\n",
      "\n",
      "\u001b[1m[\u001b[0m\u001b[34;49mnotice\u001b[0m\u001b[1;39;49m]\u001b[0m\u001b[39;49m A new release of pip available: \u001b[0m\u001b[31;49m22.2.2\u001b[0m\u001b[39;49m -> \u001b[0m\u001b[32;49m22.3\u001b[0m\n",
      "\u001b[1m[\u001b[0m\u001b[34;49mnotice\u001b[0m\u001b[1;39;49m]\u001b[0m\u001b[39;49m To update, run: \u001b[0m\u001b[32;49mpip install --upgrade pip\u001b[0m\n"
     ]
    }
   ],
   "source": [
    "!pip install mip  # Solo se si usa colab.research.google.com"
   ]
  },
  {
   "cell_type": "code",
   "execution_count": 22,
   "id": "237ae19a",
   "metadata": {},
   "outputs": [],
   "source": [
    "import mip\n",
    "\n",
    "m = mip.Model()"
   ]
  },
  {
   "cell_type": "code",
   "execution_count": 24,
   "id": "35c881a2",
   "metadata": {},
   "outputs": [],
   "source": [
    "# Variabili: una per ogni cella, quindi due indici i e j ciascuno da 0 a n-1\n",
    "# Facciamo una lista di liste\n",
    "n=10\n",
    "N=range(n)\n",
    "x=[[m.add_var(var_type=mip.BINARY) for j in N] for i in N]\n",
    "# x[i][j]\n"
   ]
  },
  {
   "cell_type": "code",
   "execution_count": 25,
   "id": "759c95a9",
   "metadata": {},
   "outputs": [
    {
     "name": "stdout",
     "output_type": "stream",
     "text": [
      "Cgl0004I processed model has 20 rows, 100 columns (100 integer (100 of which binary)) and 200 elements\n",
      "Coin3009W Conflict graph built in 0.000 seconds, density: 4.975%\n",
      "Cgl0015I Clique Strengthening extended 0 cliques, 0 were dominated\n",
      "Cbc0045I MIPStart provided solution with cost 10\n",
      "Cbc0012I Integer solution of 10 found by Reduced search after 0 iterations and 0 nodes (0.00 seconds)\n",
      "Cbc0006I The LP relaxation is infeasible or too expensive\n",
      "Cbc0045I Solution of -10 already found by heuristic\n",
      "Total time (CPU seconds):       0.01   (Wallclock seconds):       0.01\n",
      "\n",
      "Starting solution of the Linear programming relaxation problem using Primal Simplex\n",
      "\n",
      "Clp0000I Optimal - objective value 100\n",
      "Clp0032I Optimal objective 100 - 0 iterations time 0.002, Idiot 0.00\n",
      "\n",
      "Starting MIP optimization\n"
     ]
    },
    {
     "data": {
      "text/plain": [
       "<OptimizationStatus.OPTIMAL: 0>"
      ]
     },
     "execution_count": 25,
     "metadata": {},
     "output_type": "execute_result"
    }
   ],
   "source": [
    "# Funzione obiettivo: numero di regine\n",
    "m.objective=mip.maximize(mip.xsum(x[i][j] for i in N for j in N))\n",
    "m.optimize()"
   ]
  },
  {
   "cell_type": "code",
   "execution_count": 11,
   "id": "2ea5e96f",
   "metadata": {},
   "outputs": [],
   "source": [
    "# Vincolo 1: per ogni riga c'è al più una regina\n",
    "for i in N:\n",
    "    m.add_constr(mip.xsum(x[i][j] for j in N)<=1)"
   ]
  },
  {
   "cell_type": "code",
   "execution_count": 12,
   "id": "d30feb2a",
   "metadata": {},
   "outputs": [],
   "source": [
    "# Vincolo 2: per ogni colonna c'è al massimo una regina\n",
    "for j in N:\n",
    "    m.add_constr(mip.xsum(x[i][j] for i in N)<=1)"
   ]
  },
  {
   "cell_type": "code",
   "execution_count": 28,
   "id": "b0e08345",
   "metadata": {},
   "outputs": [
    {
     "name": "stdout",
     "output_type": "stream",
     "text": [
      "Cgl0004I processed model has 0 rows, 0 columns (0 integer (0 of which binary)) and 0 elements\n",
      "Cgl0015I Clique Strengthening extended 0 cliques, 0 were dominated\n",
      "Cbc3007W No integer variables\n",
      "Total time (CPU seconds):       0.01   (Wallclock seconds):       0.01\n",
      "\n",
      "Starting solution of the Linear programming relaxation problem using Primal Simplex\n",
      "\n",
      "Coin0506I Presolve 33 (-2) rows, 98 (-102) columns and 192 (-4) elements\n",
      "Clp1000I sum of infeasibilities 1.6376e-07 - average 4.96242e-09, 15 fixed columns\n",
      "Coin0506I Presolve 33 (0) rows, 83 (-15) columns and 166 (-26) elements\n",
      "Clp0006I 0  Obj 14.682362 Dual inf 8299.9999 (83)\n",
      "Clp0029I End of values pass after 83 iterations\n",
      "Clp0014I Perturbing problem by 0.001% of 1.0000009 - largest nonzero change 2.556097e-05 ( 0.0012780485%) - largest zero change 2.8691903e-05\n",
      "Clp0000I Optimal - objective value 16\n",
      "Clp0000I Optimal - objective value 16\n",
      "Coin0511I After Postsolve, objective 16, infeasibilities - dual 0 (0), primal 0 (0)\n",
      "Clp0006I 0  Obj 16 Dual inf 2.999997 (3)\n",
      "Clp0014I Perturbing problem by 0.001% of 1.0152679 - largest nonzero change 2.556097e-05 ( 0.0012780485%) - largest zero change 2.8691903e-05\n",
      "Clp0000I Optimal - objective value 18\n",
      "Clp0000I Optimal - objective value 18\n",
      "Clp0000I Optimal - objective value 18\n",
      "Coin0511I After Postsolve, objective 18, infeasibilities - dual 0 (0), primal 0 (0)\n",
      "Clp0032I Optimal objective 18 - 0 iterations time 0.012, Presolve 0.00, Idiot 0.01\n",
      "\n",
      "Starting MIP optimization\n",
      "18.0 regine\n",
      "*\n",
      ".\n",
      "*\n",
      "*\n",
      "*\n",
      ".\n",
      "*\n",
      "*\n",
      "*\n",
      "*\n",
      "*\n",
      ".\n",
      ".\n",
      ".\n",
      ".\n",
      ".\n",
      ".\n",
      ".\n",
      ".\n",
      ".\n",
      ".\n",
      ".\n",
      ".\n",
      ".\n",
      ".\n",
      ".\n",
      ".\n",
      ".\n",
      ".\n",
      ".\n",
      ".\n",
      ".\n",
      ".\n",
      ".\n",
      ".\n",
      ".\n",
      ".\n",
      ".\n",
      ".\n",
      ".\n",
      ".\n",
      ".\n",
      ".\n",
      ".\n",
      ".\n",
      ".\n",
      ".\n",
      ".\n",
      ".\n",
      "*\n",
      "*\n",
      ".\n",
      ".\n",
      ".\n",
      ".\n",
      ".\n",
      ".\n",
      ".\n",
      ".\n",
      ".\n",
      ".\n",
      ".\n",
      ".\n",
      ".\n",
      ".\n",
      ".\n",
      ".\n",
      ".\n",
      ".\n",
      ".\n",
      ".\n",
      ".\n",
      ".\n",
      ".\n",
      ".\n",
      ".\n",
      ".\n",
      ".\n",
      ".\n",
      ".\n",
      ".\n",
      ".\n",
      ".\n",
      ".\n",
      ".\n",
      ".\n",
      ".\n",
      ".\n",
      ".\n",
      "*\n",
      ".\n",
      "*\n",
      "*\n",
      "*\n",
      ".\n",
      "*\n",
      "*\n",
      "*\n",
      ".\n",
      ".\n"
     ]
    }
   ],
   "source": [
    "# Vincolo 3a e 3b: su ciascuna diagonale (verso nord-est e verso nord-ovest) c'è al massimo una regina\n",
    "for k in range(2,2*n-2):\n",
    "    m.add_constr(mip.xsum(x[i][j] for i in N for j in N if i+j==k)<=1)\n",
    "for k in range(-n+1,n):\n",
    "    m.add_constr(mip.xsum(x[i][j] for i in N for j in N if i-j==k)<=1)\n",
    "\n",
    "m.optimize()\n",
    "print(f'{m.objective_value} regine')\n",
    "for i in N:\n",
    "    for j in N:\n",
    "        if (x[i][j].x > 0.5):\n",
    "            print('*',end='')\n",
    "        else:\n",
    "            print('.',end='')\n",
    "        print()\n",
    "#for i in N:\n",
    "#    for j in N:\n",
    "#        if(x[i][j]==1):\n",
    "#            for h in range(0,n-i):\n",
    "#                x[i+h][j+h]=0;"
   ]
  }
 ],
 "metadata": {
  "kernelspec": {
   "display_name": "Python 3 (ipykernel)",
   "language": "python",
   "name": "python3"
  },
  "language_info": {
   "codemirror_mode": {
    "name": "ipython",
    "version": 3
   },
   "file_extension": ".py",
   "mimetype": "text/x-python",
   "name": "python",
   "nbconvert_exporter": "python",
   "pygments_lexer": "ipython3",
   "version": "3.9.7"
  }
 },
 "nbformat": 4,
 "nbformat_minor": 5
}
