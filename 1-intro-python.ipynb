{
 "cells": [
  {
   "cell_type": "markdown",
   "id": "c27f8659",
   "metadata": {},
   "source": [
    "# Introduction to Python for the course \"Foundations of Operations Research\"\n",
    "\n",
    "This page is an interactive way to make your first steps in the Python programming language and solve a few practical optimization problems.\n",
    "\n",
    "This tutorial shows:\n",
    "\n",
    "* How to write simple Python programs;\n",
    "* Some of the libraries we'll use during the course;\n",
    "* A note on Jupyter Notebooks.\n",
    "\n",
    "This tutorial does _not_ show how to become proficient in Python. For that there is no lack of resources, even in your language. A good starting point is the Python documentation [page](https://docs.python.org), which contains a [tutorial](https://docs.python.org/3/tutorial/index.html). If you like this interactive way of writing code, see at the bottom of this page for more information on Jupyter notebooks. The most useful thing is the following: you can modify the code and re-run it with `shift`+`enter`.\n",
    "\n",
    "Let's get started!\n",
    "\n",
    "![Mandatory XKCD reference for Python (Copyright xkcd.com)](https://imgs.xkcd.com/comics/python.png)\n",
    "\n",
    "(Image from [XKCD](https://xkcd.com)). Python is a very simple, intuitive, and readable scripting language. It can be used to write short programs that automate a task (for instance, filter out some rows in a text file) but it can also be the language of choice for large software projects.\n",
    "\n",
    "Below is a sample script. Click on its cell and then choose \"Run\" in the toolbar, or simply hit `shift`+`enter`."
   ]
  },
  {
   "cell_type": "code",
   "execution_count": 17,
   "id": "90807488",
   "metadata": {},
   "outputs": [
    {
     "name": "stdout",
     "output_type": "stream",
     "text": [
      "Let me check if 712515131 is prime\n",
      "Divisione intera: 0 \n",
      "Divisione \"reale\": 0.6666666666666666\n",
      "Yes, 712515131 is prime\n",
      "2\n"
     ]
    }
   ],
   "source": [
    "import math # ci serve per sqrt, floor, // e altre operazioni matematiche elementari\n",
    "\n",
    "n = 712515131\n",
    "print('Let me check if', n, 'is prime')\n",
    "\n",
    "# List of dividers\n",
    "dividers = []\n",
    "\n",
    "# Check all numbers until the square root of n\n",
    "# Checking larger numbers is pointless.\n",
    "# Lo fa in un range da 2 a floor(sqrt(n)), dove per definizione stanno i divisori di un numero\n",
    "# floor arrotonda all'intero inferiore del numero reale\n",
    "\n",
    "print('Divisione intera:', 2//3,'\\nDivisione \"reale\":',2/3)\n",
    "\n",
    "for k in range(2, 1 + math.floor(math.sqrt(n))):\n",
    "    if n // k == n / k: # in questo caso è divisibile\n",
    "        dividers.append(k) # append aggiunge al vettore dividers il numero k\n",
    "        \n",
    "if dividers == []: # se non ho divisori, n è primo\n",
    "    print('Yes,', n, 'is prime')\n",
    "else: # altrimenti, se ho divisori, n non è primo ed è divisibile per i numeri dentro dividers \n",
    "    print('No,', n, 'is not prime: it is divisible by', dividers)\n",
    "l=range(0,3) # l è un vettore di 3 numeri da 0 a 2\n",
    "print(l[2])"
   ]
  },
  {
   "cell_type": "markdown",
   "id": "2d239638",
   "metadata": {},
   "source": [
    "The script checks if 712515131 is prime. To do so, it checks if, for any $k$ between 2 and $\\left\\lfloor\\sqrt{n}\\right\\rfloor$, including extremes, the integer division between $n$ and $k$ (which is done in Python with the `//` operator) is the same as $\\frac{n}{k}$. If this is the case for at least one of the values of $k$, then the number is not prime. In this case, it adds $k$ to the list of dividers (which was initialized to an empty list, `[]`).\n",
    "\n",
    "A few remarks are in order:\n",
    "* We need a module for non-trivial math functions floor and the square root (sqrt). This is why we write `import math` at the beginning. The `math` module contains most math functions, while Python has the basic arithmetic functions: sum, subtraction, multiplication, division, integer division (with `//`), power (for instance `n**4` returns $n^4$).\n",
    "* The `range` keyword returns all numbers in a range. For instance, `range(4)` contains all numbers from 0 to 3, extremes included, while `range(4,14)` gives all numbers from 4 to 13. This is why we need the `1 + ` in the `range` call.\n",
    "* Lists are one of the native Python types, and perhaps the most convenient. They can be used in a number of ways, and it is very useful to learn to use them.\n",
    "* Needless to say, comments begin with a `#`. All text from `#` to the end of the line is ignored.\n",
    "\n",
    "Let's break the above script and analyze each part."
   ]
  },
  {
   "cell_type": "code",
   "execution_count": null,
   "id": "b4bb2b90",
   "metadata": {},
   "outputs": [],
   "source": [
    "import math\n",
    "\n",
    "n = 712515131\n",
    "print('Let me check if', n, 'is prime')"
   ]
  },
  {
   "cell_type": "markdown",
   "id": "468a2a02",
   "metadata": {},
   "source": [
    "This is easy. We first tell Python we'll need the `math` module, then create a variable `n` of value 712515131. Finally we print a string containing the value of `n`. The `print` function in Python can have various levels of complexity and is very versatile. Next chunk:"
   ]
  },
  {
   "cell_type": "code",
   "execution_count": null,
   "id": "1870b837",
   "metadata": {},
   "outputs": [],
   "source": [
    "# List of dividers\n",
    "dividers = []"
   ]
  },
  {
   "cell_type": "markdown",
   "id": "07806541",
   "metadata": {},
   "source": [
    "This creates another variable and assigns the empty list `[]` to it. Lists can be _appended_ (one element is added to the tail) or _extended_ (another list is concatenated to the end). For example:\n",
    "\n",
    "```python\n",
    "l = [1, 2, 3]\n",
    "l.append(5)\n",
    "```\n",
    "\n",
    "will result in `l` being `[1,2,3,5]`. If we then run `l.extend([3,4])` then `l` becomes `[1,2,3,5,3,4]`.\n",
    "\n",
    "On to the next chunk:"
   ]
  },
  {
   "cell_type": "code",
   "execution_count": null,
   "id": "f34e570d",
   "metadata": {},
   "outputs": [],
   "source": [
    "# Check all numbers until the square root of n\n",
    "# Checking larger numbers is pointless.\n",
    "for k in range(2, 1 + math.floor(math.sqrt(n))):\n",
    "    if n // k == n / k:\n",
    "        dividers.append(k)"
   ]
  },
  {
   "cell_type": "markdown",
   "id": "a547c824",
   "metadata": {},
   "source": [
    "This is obviously the core of the algorithm. I would not advise checking for prime numbers this way, but the sense is as follows:\n",
    "\n",
    "* For all numbers from 2 to $\\left\\lfloor\\sqrt{n}\\right\\rfloor$ included:\n",
    "  * If $\\left\\lfloor \\frac{n}{k}\\right\\rfloor = \\frac{n}{k}$,\n",
    "    * then add $k$ to the list of dividers.\n",
    "\n",
    "The first line is implemented with `range(2, 1+M)` where $M=\\left\\lfloor \\sqrt{n} \\right\\rfloor$ to make sure that $M$ is included in the list of checked dividers.\n",
    "\n",
    "The second line checks for equality of the integer division of `n` and `k` and their real division. When they are equal, $k$ is a divider of $n$. In that case, the third line appends $k$ to the list. At the end of the loop, `dividers` will be the list of all $k$ for which the condition on the second line is satisfied."
   ]
  },
  {
   "cell_type": "code",
   "execution_count": null,
   "id": "b66b345a",
   "metadata": {},
   "outputs": [],
   "source": [
    "if dividers == []:\n",
    "    print('Yes,', n, 'is prime')\n",
    "else:\n",
    "    print('No,', n, 'is not prime: it is divisible by', dividers + [n // d for d in reversed(dividers)])"
   ]
  },
  {
   "cell_type": "markdown",
   "id": "bc554984",
   "metadata": {},
   "source": [
    "The last part is the output. If the list `dividers` is still empty, the number is clearly prime. Otherwise we list all of the dividers found, at least those up to $\\left \\lfloor\\sqrt{n}\\right\\rfloor$. If larger ones are desired, one can find them easily by dividing $n$ by the numbers in the list. Below is an alternative instruction that prints them in non-decreasing order.\n",
    "\n",
    "Note that if $n$ is a perfect square, i.e. $n=p^2$ with $p \\in \\mathbb N$, then $p$ will show up twice in the output."
   ]
  },
  {
   "cell_type": "markdown",
   "id": "032a9de7",
   "metadata": {},
   "source": [
    "Apart from a very good language structure, Python has a super-rich set of modules for doing a lot of things. Modules contain functions and data, and one can use all or part of it when invoking the module. Working with Python is great when making use of its modules. They can be installed with `pip`, which is invoked as follows with, for example, `numpy`:\n",
    "\n",
    "```bash\n",
    "pip install numpy\n",
    "```"
   ]
  },
  {
   "cell_type": "markdown",
   "id": "adab5398",
   "metadata": {},
   "source": [
    "## Numpy\n",
    "\n",
    "Numpy is a module for fast operations on _multiarrays_, i.e., vectors, matrices, and tensors. All operations one would normally do between scalars can be done on vectors just as easily. For instance, for two arrays `x` and `y` of the same size, `x+y` is the obvious sum of the arrays, while `x*y` is the vector of equal size containing the element-wise product. The dot product is computed with `numpy.dot(x,y)`."
   ]
  },
  {
   "cell_type": "code",
   "execution_count": 19,
   "id": "38445636",
   "metadata": {},
   "outputs": [
    {
     "name": "stdout",
     "output_type": "stream",
     "text": [
      "[1, 2, 3, 4, 5, 10, 4, 0, 1, 2]\n",
      "a + b = [11  6  3  5  7]\n",
      "a * b = [10  8  0  4 10]\n",
      "dot product: 32\n"
     ]
    }
   ],
   "source": [
    "import numpy as np\n",
    "aa=[1,2,3,4,5]\n",
    "bb=[10,4,0,1,2]\n",
    "print(aa+bb) # non è quello che vogliamo: la somma in questo caso aggiunge bb al vettore aa\n",
    "a = np.array([1,2,3,4,5])\n",
    "b = np.array([10,4,0,1,2])\n",
    "\n",
    "print('a + b =', a+b) # MATLAB: a+b\n",
    "print('a * b =', a*b) # MATLAB: a.*b\n",
    "print('dot product:', np.dot(a,b)) # MATLAB: a*b (prodotto scalare)"
   ]
  },
  {
   "cell_type": "markdown",
   "id": "38223123",
   "metadata": {},
   "source": [
    "Numpy does these operations very quickly even for very large arrays, and it does it with concise syntax. Matrix/vector multiplication is done with the `@` operator.\n",
    "\n",
    "Here's another useful tip: instead of repeating `numpy.` before using each function of the Numpy module, we can import it with an _alias_ (`np` in this case) for short."
   ]
  },
  {
   "cell_type": "code",
   "execution_count": null,
   "id": "b9114fd4",
   "metadata": {},
   "outputs": [],
   "source": [
    "import numpy as np\n",
    "\n",
    "A = np.array([[2,5,3,4],[5,6,8,7],[1,2,8,10]])  # 3x4 matrix\n",
    "b = np.array([7,10,0,2])\n",
    "\n",
    "print(A@b)"
   ]
  },
  {
   "cell_type": "markdown",
   "id": "6685e014",
   "metadata": {},
   "source": [
    "## Matplotlib\n",
    "\n",
    "The module `matplotlib` is one of many plotting modules, and perhaps one of the best known. It is ideal for plotting both in 2D and 3D, and uses a very simple and concise syntax. See the example below, but more interestingly see the [gallery of examples](https://matplotlib.org/stable/gallery/index.html)."
   ]
  },
  {
   "cell_type": "code",
   "execution_count": 20,
   "id": "aea2b01a",
   "metadata": {},
   "outputs": [
    {
     "data": {
      "image/png": "[encoded data removed]",
      "text/plain": [
       "<Figure size 432x288 with 1 Axes>"
      ]
     },
     "metadata": {
      "needs_background": "light"
     },
     "output_type": "display_data"
    }
   ],
   "source": [
    "import matplotlib.pyplot as plt\n",
    "plt.plot([1,2,3,4], [3,4,2,5])\n",
    "plt.ylabel('Some numbers')\n",
    "plt.show()"
   ]
  },
  {
   "cell_type": "markdown",
   "id": "56fb5791",
   "metadata": {},
   "source": [
    "## Jupyter notebooks\n",
    "\n",
    "\n",
    "A notebook is a sequence of cells. Each cell can contain (Python) code or text. The text cells can be filled with simple text or, preferably, formatted with [Markdown](https://www.markdownguide.org/) for readability. Markdown allows for language-specific syntax highlighting of code like \n",
    "\n",
    "```python\n",
    "name = 'Groot'\n",
    "print('Hello world, I am', name)\n",
    "```\n",
    "\n",
    "and also $\\LaTeX$ formulae such as $\\int_{-\\infty}^\\sqrt{2}x^{\\sin x}dx$, easy creation of tables, item lists, text in _italics_ and __bold__, etc (if you see this text already rendered, double click on the cell to see the source).\n",
    "\n",
    "Cells can contain code as well. Each cell can be run independently, and the results (variables created, for instance) are persistent until one resets the kernel. The normal flow of a notebook is to run each cell in the natural order, but it is obviously possible to re-run a cell after it has changed."
   ]
  },
  {
   "cell_type": "markdown",
   "id": "f7a9e1c8",
   "metadata": {},
   "source": [
    "## Usage in Colab\n",
    "\n",
    "In order to use the notebooks on [Google Colab][https://colab.research.google.com], just remember to add the following snippet at the beginning of the notebook:"
   ]
  },
  {
   "cell_type": "code",
   "execution_count": null,
   "id": "95dc3180",
   "metadata": {},
   "outputs": [],
   "source": [
    "!pip install mip"
   ]
  }
 ],
 "metadata": {
  "kernelspec": {
   "display_name": "Python 3 (ipykernel)",
   "language": "python",
   "name": "python3"
  },
  "language_info": {
   "codemirror_mode": {
    "name": "ipython",
    "version": 3
   },
   "file_extension": ".py",
   "mimetype": "text/x-python",
   "name": "python",
   "nbconvert_exporter": "python",
   "pygments_lexer": "ipython3",
   "version": "3.9.7"
  }
 },
 "nbformat": 4,
 "nbformat_minor": 5
}
